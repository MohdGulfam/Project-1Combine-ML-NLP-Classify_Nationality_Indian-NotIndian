{
  "nbformat": 4,
  "nbformat_minor": 0,
  "metadata": {
    "colab": {
      "name": "Project-23_ML_Classify_Nationality_Indian/NotIndian.ipynb",
      "provenance": [],
      "collapsed_sections": []
    },
    "kernelspec": {
      "name": "python3",
      "display_name": "Python 3"
    }
  },
  "cells": [
    {
      "cell_type": "code",
      "metadata": {
        "id": "2nsrZCnqw7dW"
      },
      "source": [
        "#Import The Necessary Library \r\n",
        "from keras.preprocessing.text import Tokenizer\r\n",
        "from keras.preprocessing import sequence\r\n",
        "from keras.layers.embeddings import Embedding\r\n",
        "from keras.preprocessing import sequence\r\n",
        "from sklearn.preprocessing import LabelEncoder\r\n",
        "from keras.utils import to_categorical\r\n",
        "from keras.preprocessing import sequence\r\n",
        "from keras.models import Sequential\r\n",
        "from tensorflow import keras\r\n",
        "import tensorflow as tf\r\n",
        "import pandas as pd\r\n",
        "import os\r\n",
        "import re\r\n",
        "from keras.layers import Dense\r\n",
        "from keras.layers import LSTM\r\n",
        "import numpy as np\r\n",
        "from keras.callbacks import Callback\r\n",
        "np.random.seed(42)"
      ],
      "execution_count": 31,
      "outputs": []
    },
    {
      "cell_type": "code",
      "metadata": {
        "id": "pVQqhPuwyuS8"
      },
      "source": [
        "#Load The Datasets\r\n",
        "male_data = pd.read_csv(\"/content/drive/MyDrive/project/Dataset/Classify_Nationality_Male.csv\")\r\n",
        "female_data = pd.read_csv(\"/content/drive/MyDrive/project/Dataset/Classify_Nationality_Females.csv\")"
      ],
      "execution_count": 32,
      "outputs": []
    },
    {
      "cell_type": "code",
      "metadata": {
        "colab": {
          "base_uri": "https://localhost:8080/",
          "height": 204
        },
        "id": "dXCJuLjpyuW2",
        "outputId": "07a55733-1508-4a22-fa2b-3aaa4e968799"
      },
      "source": [
        "#First Fuve Rows of dataset \r\n",
        "male_data.head()"
      ],
      "execution_count": 33,
      "outputs": [
        {
          "output_type": "execute_result",
          "data": {
            "text/html": [
              "<div>\n",
              "<style scoped>\n",
              "    .dataframe tbody tr th:only-of-type {\n",
              "        vertical-align: middle;\n",
              "    }\n",
              "\n",
              "    .dataframe tbody tr th {\n",
              "        vertical-align: top;\n",
              "    }\n",
              "\n",
              "    .dataframe thead th {\n",
              "        text-align: right;\n",
              "    }\n",
              "</style>\n",
              "<table border=\"1\" class=\"dataframe\">\n",
              "  <thead>\n",
              "    <tr style=\"text-align: right;\">\n",
              "      <th></th>\n",
              "      <th>name</th>\n",
              "      <th>gender</th>\n",
              "      <th>race</th>\n",
              "    </tr>\n",
              "  </thead>\n",
              "  <tbody>\n",
              "    <tr>\n",
              "      <th>0</th>\n",
              "      <td>barjraj</td>\n",
              "      <td>m</td>\n",
              "      <td>indian</td>\n",
              "    </tr>\n",
              "    <tr>\n",
              "      <th>1</th>\n",
              "      <td>ramdin verma</td>\n",
              "      <td>m</td>\n",
              "      <td>indian</td>\n",
              "    </tr>\n",
              "    <tr>\n",
              "      <th>2</th>\n",
              "      <td>sharat chandran</td>\n",
              "      <td>m</td>\n",
              "      <td>indian</td>\n",
              "    </tr>\n",
              "    <tr>\n",
              "      <th>3</th>\n",
              "      <td>birender mandal</td>\n",
              "      <td>m</td>\n",
              "      <td>indian</td>\n",
              "    </tr>\n",
              "    <tr>\n",
              "      <th>4</th>\n",
              "      <td>amit</td>\n",
              "      <td>m</td>\n",
              "      <td>indian</td>\n",
              "    </tr>\n",
              "  </tbody>\n",
              "</table>\n",
              "</div>"
            ],
            "text/plain": [
              "              name gender    race\n",
              "0          barjraj      m  indian\n",
              "1     ramdin verma      m  indian\n",
              "2  sharat chandran      m  indian\n",
              "3  birender mandal      m  indian\n",
              "4             amit      m  indian"
            ]
          },
          "metadata": {
            "tags": []
          },
          "execution_count": 33
        }
      ]
    },
    {
      "cell_type": "markdown",
      "metadata": {
        "id": "N6G86aMoZM1m"
      },
      "source": [
        "**Perfrom the Pre-Process**"
      ]
    },
    {
      "cell_type": "code",
      "metadata": {
        "id": "nxlvvPrDyua9"
      },
      "source": [
        "#Replace List (i,e) the sir name that need to replace \r\n",
        "repl_list = ['s/o','d/o','w/o','/','&',',','-']"
      ],
      "execution_count": 34,
      "outputs": []
    },
    {
      "cell_type": "code",
      "metadata": {
        "id": "O44-aH95zF7A"
      },
      "source": [
        "#Remove the unnecessary punct,\r\n",
        "def clean_data(name):\r\n",
        "\tname = str(name).lower()\r\n",
        "\tname = (''.join(i for i in name if ord(i)<128)).strip()\r\n",
        "\tfor repl in repl_list:\r\n",
        "\t\tname = name.replace(repl,\" \")\r\n",
        "\tif '@' in name:\r\n",
        "\t\tpos = name.find('@')\r\n",
        "\t\tname = name[:pos].strip()\r\n",
        "\tname = name.split(\" \")\r\n",
        "\tname = \" \".join([each.strip() for each in name])\r\n",
        "\treturn name"
      ],
      "execution_count": 35,
      "outputs": []
    },
    {
      "cell_type": "code",
      "metadata": {
        "id": "84qKO0NwzGay"
      },
      "source": [
        "def remove_records(merged_data):\r\n",
        "\tmerged_data['delete'] = 0\r\n",
        "\tmerged_data.loc[merged_data['name'].str.find('with') != -1,'delete'] = 1\t\r\n",
        "\tmerged_data.loc[merged_data['count_words']>=5,'delete']=1\r\n",
        "\tmerged_data.loc[merged_data['count_words']==0,'delete']=1\r\n",
        "\tmerged_data.loc[merged_data['name'].str.contains(r'\\d') == True,'delete']=1\r\n",
        "\tcleaned_data = merged_data[merged_data.delete==0]\r\n",
        "\treturn cleaned_data"
      ],
      "execution_count": 36,
      "outputs": []
    },
    {
      "cell_type": "code",
      "metadata": {
        "id": "dbl-5FLYzGd5"
      },
      "source": [
        "#Concatinate both the dataset \r\n",
        "merged_data = pd.concat((male_data,female_data),axis=0)"
      ],
      "execution_count": 37,
      "outputs": []
    },
    {
      "cell_type": "code",
      "metadata": {
        "colab": {
          "base_uri": "https://localhost:8080/",
          "height": 204
        },
        "id": "XjVmpRzdzMgD",
        "outputId": "cbdc888d-d035-4259-dc02-509325918600"
      },
      "source": [
        "merged_data.head()"
      ],
      "execution_count": 38,
      "outputs": [
        {
          "output_type": "execute_result",
          "data": {
            "text/html": [
              "<div>\n",
              "<style scoped>\n",
              "    .dataframe tbody tr th:only-of-type {\n",
              "        vertical-align: middle;\n",
              "    }\n",
              "\n",
              "    .dataframe tbody tr th {\n",
              "        vertical-align: top;\n",
              "    }\n",
              "\n",
              "    .dataframe thead th {\n",
              "        text-align: right;\n",
              "    }\n",
              "</style>\n",
              "<table border=\"1\" class=\"dataframe\">\n",
              "  <thead>\n",
              "    <tr style=\"text-align: right;\">\n",
              "      <th></th>\n",
              "      <th>name</th>\n",
              "      <th>gender</th>\n",
              "      <th>race</th>\n",
              "    </tr>\n",
              "  </thead>\n",
              "  <tbody>\n",
              "    <tr>\n",
              "      <th>0</th>\n",
              "      <td>barjraj</td>\n",
              "      <td>m</td>\n",
              "      <td>indian</td>\n",
              "    </tr>\n",
              "    <tr>\n",
              "      <th>1</th>\n",
              "      <td>ramdin verma</td>\n",
              "      <td>m</td>\n",
              "      <td>indian</td>\n",
              "    </tr>\n",
              "    <tr>\n",
              "      <th>2</th>\n",
              "      <td>sharat chandran</td>\n",
              "      <td>m</td>\n",
              "      <td>indian</td>\n",
              "    </tr>\n",
              "    <tr>\n",
              "      <th>3</th>\n",
              "      <td>birender mandal</td>\n",
              "      <td>m</td>\n",
              "      <td>indian</td>\n",
              "    </tr>\n",
              "    <tr>\n",
              "      <th>4</th>\n",
              "      <td>amit</td>\n",
              "      <td>m</td>\n",
              "      <td>indian</td>\n",
              "    </tr>\n",
              "  </tbody>\n",
              "</table>\n",
              "</div>"
            ],
            "text/plain": [
              "              name gender    race\n",
              "0          barjraj      m  indian\n",
              "1     ramdin verma      m  indian\n",
              "2  sharat chandran      m  indian\n",
              "3  birender mandal      m  indian\n",
              "4             amit      m  indian"
            ]
          },
          "metadata": {
            "tags": []
          },
          "execution_count": 38
        }
      ]
    },
    {
      "cell_type": "code",
      "metadata": {
        "id": "txOClOlzzGhQ"
      },
      "source": [
        "merged_data['name'] = merged_data['name'].apply(clean_data)\r\n",
        "merged_data['count_words'] = merged_data['name'].str.split().apply(len)"
      ],
      "execution_count": 39,
      "outputs": []
    },
    {
      "cell_type": "code",
      "metadata": {
        "id": "e3mI6JFp0UNd"
      },
      "source": [
        "cleaned_data = remove_records(merged_data)"
      ],
      "execution_count": 40,
      "outputs": []
    },
    {
      "cell_type": "code",
      "metadata": {
        "colab": {
          "base_uri": "https://localhost:8080/",
          "height": 204
        },
        "id": "Bk8-cqNg0UqJ",
        "outputId": "2c6b48c8-75a1-49a5-dd1f-158a1f3a87dc"
      },
      "source": [
        "cleaned_data.head()"
      ],
      "execution_count": 41,
      "outputs": [
        {
          "output_type": "execute_result",
          "data": {
            "text/html": [
              "<div>\n",
              "<style scoped>\n",
              "    .dataframe tbody tr th:only-of-type {\n",
              "        vertical-align: middle;\n",
              "    }\n",
              "\n",
              "    .dataframe tbody tr th {\n",
              "        vertical-align: top;\n",
              "    }\n",
              "\n",
              "    .dataframe thead th {\n",
              "        text-align: right;\n",
              "    }\n",
              "</style>\n",
              "<table border=\"1\" class=\"dataframe\">\n",
              "  <thead>\n",
              "    <tr style=\"text-align: right;\">\n",
              "      <th></th>\n",
              "      <th>name</th>\n",
              "      <th>gender</th>\n",
              "      <th>race</th>\n",
              "      <th>count_words</th>\n",
              "      <th>delete</th>\n",
              "    </tr>\n",
              "  </thead>\n",
              "  <tbody>\n",
              "    <tr>\n",
              "      <th>0</th>\n",
              "      <td>barjraj</td>\n",
              "      <td>m</td>\n",
              "      <td>indian</td>\n",
              "      <td>1</td>\n",
              "      <td>0</td>\n",
              "    </tr>\n",
              "    <tr>\n",
              "      <th>1</th>\n",
              "      <td>ramdin verma</td>\n",
              "      <td>m</td>\n",
              "      <td>indian</td>\n",
              "      <td>2</td>\n",
              "      <td>0</td>\n",
              "    </tr>\n",
              "    <tr>\n",
              "      <th>2</th>\n",
              "      <td>sharat chandran</td>\n",
              "      <td>m</td>\n",
              "      <td>indian</td>\n",
              "      <td>2</td>\n",
              "      <td>0</td>\n",
              "    </tr>\n",
              "    <tr>\n",
              "      <th>3</th>\n",
              "      <td>birender mandal</td>\n",
              "      <td>m</td>\n",
              "      <td>indian</td>\n",
              "      <td>2</td>\n",
              "      <td>0</td>\n",
              "    </tr>\n",
              "    <tr>\n",
              "      <th>4</th>\n",
              "      <td>amit</td>\n",
              "      <td>m</td>\n",
              "      <td>indian</td>\n",
              "      <td>1</td>\n",
              "      <td>0</td>\n",
              "    </tr>\n",
              "  </tbody>\n",
              "</table>\n",
              "</div>"
            ],
            "text/plain": [
              "              name gender    race  count_words  delete\n",
              "0          barjraj      m  indian            1       0\n",
              "1     ramdin verma      m  indian            2       0\n",
              "2  sharat chandran      m  indian            2       0\n",
              "3  birender mandal      m  indian            2       0\n",
              "4             amit      m  indian            1       0"
            ]
          },
          "metadata": {
            "tags": []
          },
          "execution_count": 41
        }
      ]
    },
    {
      "cell_type": "code",
      "metadata": {
        "colab": {
          "base_uri": "https://localhost:8080/"
        },
        "id": "5OvkftGlY49r",
        "outputId": "df9aceab-8ea3-4898-8215-4ad9ab4f0bf5"
      },
      "source": [
        "cleaned_data.shape"
      ],
      "execution_count": 71,
      "outputs": [
        {
          "output_type": "execute_result",
          "data": {
            "text/plain": [
              "(29868, 5)"
            ]
          },
          "metadata": {
            "tags": []
          },
          "execution_count": 71
        }
      ]
    },
    {
      "cell_type": "code",
      "metadata": {
        "id": "yqQW5u_10UtF"
      },
      "source": [
        "#Drop the Dupliactes Value \r\n",
        "indian_cleaned_data = cleaned_data[['name','count_words']].drop_duplicates(subset='name',keep='first')\r\n",
        "indian_cleaned_data['label'] = 'indian'"
      ],
      "execution_count": 42,
      "outputs": []
    },
    {
      "cell_type": "code",
      "metadata": {
        "colab": {
          "base_uri": "https://localhost:8080/",
          "height": 204
        },
        "id": "UE0LJmK20UwQ",
        "outputId": "c62c6b22-c076-4b5f-fcc7-f43e226e44d6"
      },
      "source": [
        "indian_cleaned_data.head()"
      ],
      "execution_count": 43,
      "outputs": [
        {
          "output_type": "execute_result",
          "data": {
            "text/html": [
              "<div>\n",
              "<style scoped>\n",
              "    .dataframe tbody tr th:only-of-type {\n",
              "        vertical-align: middle;\n",
              "    }\n",
              "\n",
              "    .dataframe tbody tr th {\n",
              "        vertical-align: top;\n",
              "    }\n",
              "\n",
              "    .dataframe thead th {\n",
              "        text-align: right;\n",
              "    }\n",
              "</style>\n",
              "<table border=\"1\" class=\"dataframe\">\n",
              "  <thead>\n",
              "    <tr style=\"text-align: right;\">\n",
              "      <th></th>\n",
              "      <th>name</th>\n",
              "      <th>count_words</th>\n",
              "      <th>label</th>\n",
              "    </tr>\n",
              "  </thead>\n",
              "  <tbody>\n",
              "    <tr>\n",
              "      <th>0</th>\n",
              "      <td>barjraj</td>\n",
              "      <td>1</td>\n",
              "      <td>indian</td>\n",
              "    </tr>\n",
              "    <tr>\n",
              "      <th>1</th>\n",
              "      <td>ramdin verma</td>\n",
              "      <td>2</td>\n",
              "      <td>indian</td>\n",
              "    </tr>\n",
              "    <tr>\n",
              "      <th>2</th>\n",
              "      <td>sharat chandran</td>\n",
              "      <td>2</td>\n",
              "      <td>indian</td>\n",
              "    </tr>\n",
              "    <tr>\n",
              "      <th>3</th>\n",
              "      <td>birender mandal</td>\n",
              "      <td>2</td>\n",
              "      <td>indian</td>\n",
              "    </tr>\n",
              "    <tr>\n",
              "      <th>4</th>\n",
              "      <td>amit</td>\n",
              "      <td>1</td>\n",
              "      <td>indian</td>\n",
              "    </tr>\n",
              "  </tbody>\n",
              "</table>\n",
              "</div>"
            ],
            "text/plain": [
              "              name  count_words   label\n",
              "0          barjraj            1  indian\n",
              "1     ramdin verma            2  indian\n",
              "2  sharat chandran            2  indian\n",
              "3  birender mandal            2  indian\n",
              "4             amit            1  indian"
            ]
          },
          "metadata": {
            "tags": []
          },
          "execution_count": 43
        }
      ]
    },
    {
      "cell_type": "code",
      "metadata": {
        "colab": {
          "base_uri": "https://localhost:8080/"
        },
        "id": "LPryBPJo0Uzg",
        "outputId": "024c48d4-942a-4070-d5ef-ce7912e79daa"
      },
      "source": [
        "len(indian_cleaned_data)"
      ],
      "execution_count": 44,
      "outputs": [
        {
          "output_type": "execute_result",
          "data": {
            "text/plain": [
              "13754"
            ]
          },
          "metadata": {
            "tags": []
          },
          "execution_count": 44
        }
      ]
    },
    {
      "cell_type": "code",
      "metadata": {
        "colab": {
          "base_uri": "https://localhost:8080/"
        },
        "id": "s7yAuYBi0yWb",
        "outputId": "c7e7b05a-5555-4c92-e8b5-39d01e133a85"
      },
      "source": [
        "#Now ADD the Non-indans With the help of faker Function \r\n",
        "pip install Faker"
      ],
      "execution_count": 45,
      "outputs": [
        {
          "output_type": "stream",
          "text": [
            "Requirement already satisfied: Faker in /usr/local/lib/python3.6/dist-packages (5.8.0)\n",
            "Requirement already satisfied: text-unidecode==1.3 in /usr/local/lib/python3.6/dist-packages (from Faker) (1.3)\n",
            "Requirement already satisfied: python-dateutil>=2.4 in /usr/local/lib/python3.6/dist-packages (from Faker) (2.8.1)\n",
            "Requirement already satisfied: six>=1.5 in /usr/local/lib/python3.6/dist-packages (from python-dateutil>=2.4->Faker) (1.15.0)\n"
          ],
          "name": "stdout"
        }
      ]
    },
    {
      "cell_type": "code",
      "metadata": {
        "colab": {
          "base_uri": "https://localhost:8080/",
          "height": 35
        },
        "id": "rKGdiOFG0zPi",
        "outputId": "f47b3ca2-ba87-44c6-f4b4-4c6f262a1da9"
      },
      "source": [
        "from faker import Faker\r\n",
        "fake=Faker()\r\n",
        "\r\n",
        "fake.name()"
      ],
      "execution_count": 46,
      "outputs": [
        {
          "output_type": "execute_result",
          "data": {
            "application/vnd.google.colaboratory.intrinsic+json": {
              "type": "string"
            },
            "text/plain": [
              "'Joshua Reed'"
            ]
          },
          "metadata": {
            "tags": []
          },
          "execution_count": 46
        }
      ]
    },
    {
      "cell_type": "code",
      "metadata": {
        "colab": {
          "base_uri": "https://localhost:8080/",
          "height": 204
        },
        "id": "o_2Gf_EM0yZi",
        "outputId": "e8cab7da-4970-4da2-f6b2-8bf2ed1a4f06"
      },
      "source": [
        "#Here get the fake name around 14k coz the indian names around 13.75k\r\n",
        "column_name=[\"name\"]\r\n",
        "fake = Faker(['en_US'])\r\n",
        "data = [fake.name() for i in range(0,14000)]\r\n",
        "data = pd.DataFrame(data,columns=column_name)\r\n",
        "data.head()"
      ],
      "execution_count": 47,
      "outputs": [
        {
          "output_type": "execute_result",
          "data": {
            "text/html": [
              "<div>\n",
              "<style scoped>\n",
              "    .dataframe tbody tr th:only-of-type {\n",
              "        vertical-align: middle;\n",
              "    }\n",
              "\n",
              "    .dataframe tbody tr th {\n",
              "        vertical-align: top;\n",
              "    }\n",
              "\n",
              "    .dataframe thead th {\n",
              "        text-align: right;\n",
              "    }\n",
              "</style>\n",
              "<table border=\"1\" class=\"dataframe\">\n",
              "  <thead>\n",
              "    <tr style=\"text-align: right;\">\n",
              "      <th></th>\n",
              "      <th>name</th>\n",
              "    </tr>\n",
              "  </thead>\n",
              "  <tbody>\n",
              "    <tr>\n",
              "      <th>0</th>\n",
              "      <td>Jeffrey Castaneda</td>\n",
              "    </tr>\n",
              "    <tr>\n",
              "      <th>1</th>\n",
              "      <td>Caroline Gordon</td>\n",
              "    </tr>\n",
              "    <tr>\n",
              "      <th>2</th>\n",
              "      <td>Daniel White</td>\n",
              "    </tr>\n",
              "    <tr>\n",
              "      <th>3</th>\n",
              "      <td>Lori Rojas</td>\n",
              "    </tr>\n",
              "    <tr>\n",
              "      <th>4</th>\n",
              "      <td>Mr. Ralph Tyler</td>\n",
              "    </tr>\n",
              "  </tbody>\n",
              "</table>\n",
              "</div>"
            ],
            "text/plain": [
              "                name\n",
              "0  Jeffrey Castaneda\n",
              "1    Caroline Gordon\n",
              "2       Daniel White\n",
              "3         Lori Rojas\n",
              "4    Mr. Ralph Tyler"
            ]
          },
          "metadata": {
            "tags": []
          },
          "execution_count": 47
        }
      ]
    },
    {
      "cell_type": "code",
      "metadata": {
        "id": "1q0ef0I80yd_"
      },
      "source": [
        "data['count_words'] = data['name'].str.split().apply(len)"
      ],
      "execution_count": 48,
      "outputs": []
    },
    {
      "cell_type": "code",
      "metadata": {
        "colab": {
          "base_uri": "https://localhost:8080/",
          "height": 204
        },
        "id": "p8dUBqpV1jwB",
        "outputId": "fab0ba5a-6fb8-41a9-aa57-e0d57564b4da"
      },
      "source": [
        "data.head()"
      ],
      "execution_count": 49,
      "outputs": [
        {
          "output_type": "execute_result",
          "data": {
            "text/html": [
              "<div>\n",
              "<style scoped>\n",
              "    .dataframe tbody tr th:only-of-type {\n",
              "        vertical-align: middle;\n",
              "    }\n",
              "\n",
              "    .dataframe tbody tr th {\n",
              "        vertical-align: top;\n",
              "    }\n",
              "\n",
              "    .dataframe thead th {\n",
              "        text-align: right;\n",
              "    }\n",
              "</style>\n",
              "<table border=\"1\" class=\"dataframe\">\n",
              "  <thead>\n",
              "    <tr style=\"text-align: right;\">\n",
              "      <th></th>\n",
              "      <th>name</th>\n",
              "      <th>count_words</th>\n",
              "    </tr>\n",
              "  </thead>\n",
              "  <tbody>\n",
              "    <tr>\n",
              "      <th>0</th>\n",
              "      <td>Jeffrey Castaneda</td>\n",
              "      <td>2</td>\n",
              "    </tr>\n",
              "    <tr>\n",
              "      <th>1</th>\n",
              "      <td>Caroline Gordon</td>\n",
              "      <td>2</td>\n",
              "    </tr>\n",
              "    <tr>\n",
              "      <th>2</th>\n",
              "      <td>Daniel White</td>\n",
              "      <td>2</td>\n",
              "    </tr>\n",
              "    <tr>\n",
              "      <th>3</th>\n",
              "      <td>Lori Rojas</td>\n",
              "      <td>2</td>\n",
              "    </tr>\n",
              "    <tr>\n",
              "      <th>4</th>\n",
              "      <td>Mr. Ralph Tyler</td>\n",
              "      <td>3</td>\n",
              "    </tr>\n",
              "  </tbody>\n",
              "</table>\n",
              "</div>"
            ],
            "text/plain": [
              "                name  count_words\n",
              "0  Jeffrey Castaneda            2\n",
              "1    Caroline Gordon            2\n",
              "2       Daniel White            2\n",
              "3         Lori Rojas            2\n",
              "4    Mr. Ralph Tyler            3"
            ]
          },
          "metadata": {
            "tags": []
          },
          "execution_count": 49
        }
      ]
    },
    {
      "cell_type": "code",
      "metadata": {
        "id": "i_UHqHfU1jz9"
      },
      "source": [
        "cleaned_data1 = remove_records(data)"
      ],
      "execution_count": 50,
      "outputs": []
    },
    {
      "cell_type": "code",
      "metadata": {
        "colab": {
          "base_uri": "https://localhost:8080/",
          "height": 204
        },
        "id": "3Epd4j9n1j4z",
        "outputId": "2724fc17-8287-4058-806b-636063f25895"
      },
      "source": [
        "cleaned_data1.head()"
      ],
      "execution_count": 51,
      "outputs": [
        {
          "output_type": "execute_result",
          "data": {
            "text/html": [
              "<div>\n",
              "<style scoped>\n",
              "    .dataframe tbody tr th:only-of-type {\n",
              "        vertical-align: middle;\n",
              "    }\n",
              "\n",
              "    .dataframe tbody tr th {\n",
              "        vertical-align: top;\n",
              "    }\n",
              "\n",
              "    .dataframe thead th {\n",
              "        text-align: right;\n",
              "    }\n",
              "</style>\n",
              "<table border=\"1\" class=\"dataframe\">\n",
              "  <thead>\n",
              "    <tr style=\"text-align: right;\">\n",
              "      <th></th>\n",
              "      <th>name</th>\n",
              "      <th>count_words</th>\n",
              "      <th>delete</th>\n",
              "    </tr>\n",
              "  </thead>\n",
              "  <tbody>\n",
              "    <tr>\n",
              "      <th>0</th>\n",
              "      <td>Jeffrey Castaneda</td>\n",
              "      <td>2</td>\n",
              "      <td>0</td>\n",
              "    </tr>\n",
              "    <tr>\n",
              "      <th>1</th>\n",
              "      <td>Caroline Gordon</td>\n",
              "      <td>2</td>\n",
              "      <td>0</td>\n",
              "    </tr>\n",
              "    <tr>\n",
              "      <th>2</th>\n",
              "      <td>Daniel White</td>\n",
              "      <td>2</td>\n",
              "      <td>0</td>\n",
              "    </tr>\n",
              "    <tr>\n",
              "      <th>3</th>\n",
              "      <td>Lori Rojas</td>\n",
              "      <td>2</td>\n",
              "      <td>0</td>\n",
              "    </tr>\n",
              "    <tr>\n",
              "      <th>4</th>\n",
              "      <td>Mr. Ralph Tyler</td>\n",
              "      <td>3</td>\n",
              "      <td>0</td>\n",
              "    </tr>\n",
              "  </tbody>\n",
              "</table>\n",
              "</div>"
            ],
            "text/plain": [
              "                name  count_words  delete\n",
              "0  Jeffrey Castaneda            2       0\n",
              "1    Caroline Gordon            2       0\n",
              "2       Daniel White            2       0\n",
              "3         Lori Rojas            2       0\n",
              "4    Mr. Ralph Tyler            3       0"
            ]
          },
          "metadata": {
            "tags": []
          },
          "execution_count": 51
        }
      ]
    },
    {
      "cell_type": "code",
      "metadata": {
        "colab": {
          "base_uri": "https://localhost:8080/"
        },
        "id": "pXpBXnH2Zs-S",
        "outputId": "78fe4acf-5ac8-423d-9985-116abf896080"
      },
      "source": [
        "cleaned_data1.shape"
      ],
      "execution_count": 72,
      "outputs": [
        {
          "output_type": "execute_result",
          "data": {
            "text/plain": [
              "(14000, 3)"
            ]
          },
          "metadata": {
            "tags": []
          },
          "execution_count": 72
        }
      ]
    },
    {
      "cell_type": "code",
      "metadata": {
        "id": "taSfdisa1-h-"
      },
      "source": [
        "non_indian_data = cleaned_data1[['name','count_words']].drop_duplicates(subset='name',keep='first')\r\n",
        "non_indian_data['label'] = 'non_indian'"
      ],
      "execution_count": 52,
      "outputs": []
    },
    {
      "cell_type": "code",
      "metadata": {
        "colab": {
          "base_uri": "https://localhost:8080/",
          "height": 204
        },
        "id": "Vxs2JQ7f1-lK",
        "outputId": "ae050da0-065d-420c-b55a-c4687a57d527"
      },
      "source": [
        "non_indian_data.head()"
      ],
      "execution_count": 53,
      "outputs": [
        {
          "output_type": "execute_result",
          "data": {
            "text/html": [
              "<div>\n",
              "<style scoped>\n",
              "    .dataframe tbody tr th:only-of-type {\n",
              "        vertical-align: middle;\n",
              "    }\n",
              "\n",
              "    .dataframe tbody tr th {\n",
              "        vertical-align: top;\n",
              "    }\n",
              "\n",
              "    .dataframe thead th {\n",
              "        text-align: right;\n",
              "    }\n",
              "</style>\n",
              "<table border=\"1\" class=\"dataframe\">\n",
              "  <thead>\n",
              "    <tr style=\"text-align: right;\">\n",
              "      <th></th>\n",
              "      <th>name</th>\n",
              "      <th>count_words</th>\n",
              "      <th>label</th>\n",
              "    </tr>\n",
              "  </thead>\n",
              "  <tbody>\n",
              "    <tr>\n",
              "      <th>0</th>\n",
              "      <td>Jeffrey Castaneda</td>\n",
              "      <td>2</td>\n",
              "      <td>non_indian</td>\n",
              "    </tr>\n",
              "    <tr>\n",
              "      <th>1</th>\n",
              "      <td>Caroline Gordon</td>\n",
              "      <td>2</td>\n",
              "      <td>non_indian</td>\n",
              "    </tr>\n",
              "    <tr>\n",
              "      <th>2</th>\n",
              "      <td>Daniel White</td>\n",
              "      <td>2</td>\n",
              "      <td>non_indian</td>\n",
              "    </tr>\n",
              "    <tr>\n",
              "      <th>3</th>\n",
              "      <td>Lori Rojas</td>\n",
              "      <td>2</td>\n",
              "      <td>non_indian</td>\n",
              "    </tr>\n",
              "    <tr>\n",
              "      <th>4</th>\n",
              "      <td>Mr. Ralph Tyler</td>\n",
              "      <td>3</td>\n",
              "      <td>non_indian</td>\n",
              "    </tr>\n",
              "  </tbody>\n",
              "</table>\n",
              "</div>"
            ],
            "text/plain": [
              "                name  count_words       label\n",
              "0  Jeffrey Castaneda            2  non_indian\n",
              "1    Caroline Gordon            2  non_indian\n",
              "2       Daniel White            2  non_indian\n",
              "3         Lori Rojas            2  non_indian\n",
              "4    Mr. Ralph Tyler            3  non_indian"
            ]
          },
          "metadata": {
            "tags": []
          },
          "execution_count": 53
        }
      ]
    },
    {
      "cell_type": "code",
      "metadata": {
        "colab": {
          "base_uri": "https://localhost:8080/"
        },
        "id": "RekzPt1b1-ov",
        "outputId": "8b347c37-be67-4dbf-b2a8-3a5454b393cf"
      },
      "source": [
        "len(non_indian_data)"
      ],
      "execution_count": 54,
      "outputs": [
        {
          "output_type": "execute_result",
          "data": {
            "text/plain": [
              "12872"
            ]
          },
          "metadata": {
            "tags": []
          },
          "execution_count": 54
        }
      ]
    },
    {
      "cell_type": "code",
      "metadata": {
        "colab": {
          "base_uri": "https://localhost:8080/"
        },
        "id": "hmdUxvpb1-sJ",
        "outputId": "410ccb29-4a7b-408e-888b-b7f7af28ee14"
      },
      "source": [
        "indian_cleaned_data['count_words'].value_counts()"
      ],
      "execution_count": 55,
      "outputs": [
        {
          "output_type": "execute_result",
          "data": {
            "text/plain": [
              "2    7954\n",
              "1    4322\n",
              "3    1344\n",
              "4     134\n",
              "Name: count_words, dtype: int64"
            ]
          },
          "metadata": {
            "tags": []
          },
          "execution_count": 55
        }
      ]
    },
    {
      "cell_type": "code",
      "metadata": {
        "colab": {
          "base_uri": "https://localhost:8080/"
        },
        "id": "6OIeuuC_1-vS",
        "outputId": "57bafb64-259d-4981-8b3c-cf6a5614d08e"
      },
      "source": [
        "non_indian_data['count_words'].value_counts()\r\n",
        "#Here is the disbalanaced on the count_words on Non-Indian"
      ],
      "execution_count": 56,
      "outputs": [
        {
          "output_type": "execute_result",
          "data": {
            "text/plain": [
              "2    12301\n",
              "3      489\n",
              "4       82\n",
              "Name: count_words, dtype: int64"
            ]
          },
          "metadata": {
            "tags": []
          },
          "execution_count": 56
        }
      ]
    },
    {
      "cell_type": "code",
      "metadata": {
        "id": "dPM4Lzo21-ys",
        "colab": {
          "base_uri": "https://localhost:8080/"
        },
        "outputId": "40a6e27c-1dbe-44e4-ee8c-5c01588626dc"
      },
      "source": [
        "#Let's make a balance between the count words \r\n",
        "#Count_Words=1\r\n",
        "two_word_names = non_indian_data[non_indian_data['count_words']==2]['name']\r\n",
        "one_word_req = 3000\r\n",
        "names_one_two_words = [each.split()[0] for each in two_word_names[:one_word_req]] + list(two_word_names[one_word_req:])\r\n",
        "count_words = [1] * one_word_req + [2] * len(two_word_names[one_word_req:])\r\n",
        "not_two_words_pd  = non_indian_data[non_indian_data['count_words']!=2]\r\n",
        "one_two_words_pd = pd.DataFrame({'name':names_one_two_words,'count_words':count_words})\r\n",
        "non_indian_data = pd.concat((not_two_words_pd,one_two_words_pd),axis=0)\r\n",
        "non_indian_data['count_words'].value_counts()\r\n",
        "non_indian_data['label'] = 'non_indian'\r\n",
        "non_indian_data = non_indian_data[non_indian_data['count_words']<5]\r\n",
        "non_indian_data['count_words'].value_counts()"
      ],
      "execution_count": 57,
      "outputs": [
        {
          "output_type": "execute_result",
          "data": {
            "text/plain": [
              "2    9301\n",
              "1    3000\n",
              "3     489\n",
              "4      82\n",
              "Name: count_words, dtype: int64"
            ]
          },
          "metadata": {
            "tags": []
          },
          "execution_count": 57
        }
      ]
    },
    {
      "cell_type": "code",
      "metadata": {
        "id": "4toEVw5Y1-1-",
        "colab": {
          "base_uri": "https://localhost:8080/"
        },
        "outputId": "db5b563e-fb11-45d8-8f9c-dfe5d9f3ed12"
      },
      "source": [
        "#Count_Words=4\r\n",
        "two_word_names = non_indian_data[non_indian_data['count_words']==2]['name']\r\n",
        "one_word_req = 1500\r\n",
        "names_one_two_words = [each.split()[0] for each in two_word_names[:one_word_req]] + list(two_word_names[one_word_req:])\r\n",
        "count_words = [4] * one_word_req + [2] * len(two_word_names[one_word_req:])\r\n",
        "not_two_words_pd  = non_indian_data[non_indian_data['count_words']!=2]\r\n",
        "one_two_words_pd = pd.DataFrame({'name':names_one_two_words,'count_words':count_words})\r\n",
        "non_indian_data = pd.concat((not_two_words_pd,one_two_words_pd),axis=0)\r\n",
        "non_indian_data['count_words'].value_counts()\r\n",
        "non_indian_data['label'] = 'non_indian'\r\n",
        "non_indian_data = non_indian_data[non_indian_data['count_words']<5]\r\n",
        "non_indian_data['count_words'].value_counts()"
      ],
      "execution_count": 58,
      "outputs": [
        {
          "output_type": "execute_result",
          "data": {
            "text/plain": [
              "2    7801\n",
              "1    3000\n",
              "4    1582\n",
              "3     489\n",
              "Name: count_words, dtype: int64"
            ]
          },
          "metadata": {
            "tags": []
          },
          "execution_count": 58
        }
      ]
    },
    {
      "cell_type": "code",
      "metadata": {
        "id": "LWVvoeTY1-_-",
        "colab": {
          "base_uri": "https://localhost:8080/"
        },
        "outputId": "24315ca7-bc79-4f5e-a818-c636984ecedf"
      },
      "source": [
        "#Count_Words=3\r\n",
        "two_word_names = non_indian_data[non_indian_data['count_words']==2]['name']\r\n",
        "one_word_req = 2000\r\n",
        "names_one_two_words = [each.split()[0] for each in two_word_names[:one_word_req]] + list(two_word_names[one_word_req:])\r\n",
        "count_words = [3] * one_word_req + [2] * len(two_word_names[one_word_req:])\r\n",
        "not_two_words_pd  = non_indian_data[non_indian_data['count_words']!=2]\r\n",
        "one_two_words_pd = pd.DataFrame({'name':names_one_two_words,'count_words':count_words})\r\n",
        "non_indian_data = pd.concat((not_two_words_pd,one_two_words_pd),axis=0)\r\n",
        "non_indian_data['count_words'].value_counts()\r\n",
        "non_indian_data['label'] = 'non_indian'\r\n",
        "non_indian_data = non_indian_data[non_indian_data['count_words']<5]\r\n",
        "non_indian_data['count_words'].value_counts()"
      ],
      "execution_count": 59,
      "outputs": [
        {
          "output_type": "execute_result",
          "data": {
            "text/plain": [
              "2    5801\n",
              "1    3000\n",
              "3    2489\n",
              "4    1582\n",
              "Name: count_words, dtype: int64"
            ]
          },
          "metadata": {
            "tags": []
          },
          "execution_count": 59
        }
      ]
    },
    {
      "cell_type": "code",
      "metadata": {
        "id": "N0ObxZY_0yiq",
        "colab": {
          "base_uri": "https://localhost:8080/",
          "height": 17
        },
        "outputId": "c7daaf3e-48d7-46a5-dede-b13e7caf65a1"
      },
      "source": [
        "#Now concate non_indian/indian then save it to .csv file \r\n",
        "full_data = pd.concat((non_indian_data[['name','label']],indian_cleaned_data[['name','label']]),axis=0)\r\n",
        "full_data = full_data.sample(frac=1)\r\n",
        "full_data.to_csv(\"name_data.csv\",index=False)\r\n",
        "from google.colab import files\r\n",
        "files.download('name_data.csv')"
      ],
      "execution_count": 60,
      "outputs": [
        {
          "output_type": "display_data",
          "data": {
            "application/javascript": [
              "\n",
              "    async function download(id, filename, size) {\n",
              "      if (!google.colab.kernel.accessAllowed) {\n",
              "        return;\n",
              "      }\n",
              "      const div = document.createElement('div');\n",
              "      const label = document.createElement('label');\n",
              "      label.textContent = `Downloading \"${filename}\": `;\n",
              "      div.appendChild(label);\n",
              "      const progress = document.createElement('progress');\n",
              "      progress.max = size;\n",
              "      div.appendChild(progress);\n",
              "      document.body.appendChild(div);\n",
              "\n",
              "      const buffers = [];\n",
              "      let downloaded = 0;\n",
              "\n",
              "      const channel = await google.colab.kernel.comms.open(id);\n",
              "      // Send a message to notify the kernel that we're ready.\n",
              "      channel.send({})\n",
              "\n",
              "      for await (const message of channel.messages) {\n",
              "        // Send a message to notify the kernel that we're ready.\n",
              "        channel.send({})\n",
              "        if (message.buffers) {\n",
              "          for (const buffer of message.buffers) {\n",
              "            buffers.push(buffer);\n",
              "            downloaded += buffer.byteLength;\n",
              "            progress.value = downloaded;\n",
              "          }\n",
              "        }\n",
              "      }\n",
              "      const blob = new Blob(buffers, {type: 'application/binary'});\n",
              "      const a = document.createElement('a');\n",
              "      a.href = window.URL.createObjectURL(blob);\n",
              "      a.download = filename;\n",
              "      div.appendChild(a);\n",
              "      a.click();\n",
              "      div.remove();\n",
              "    }\n",
              "  "
            ],
            "text/plain": [
              "<IPython.core.display.Javascript object>"
            ]
          },
          "metadata": {
            "tags": []
          }
        },
        {
          "output_type": "display_data",
          "data": {
            "application/javascript": [
              "download(\"download_0dc1dcae-ee77-4139-815f-ba26133ac256\", \"name_data.csv\", 537972)"
            ],
            "text/plain": [
              "<IPython.core.display.Javascript object>"
            ]
          },
          "metadata": {
            "tags": []
          }
        }
      ]
    },
    {
      "cell_type": "code",
      "metadata": {
        "id": "lW0djjYESnSx"
      },
      "source": [
        "#Now load it again \r\n",
        "data_url = \"/content/name_data (2).csv\"\r\n",
        "name_data = pd.read_csv(data_url)"
      ],
      "execution_count": 61,
      "outputs": []
    },
    {
      "cell_type": "code",
      "metadata": {
        "colab": {
          "base_uri": "https://localhost:8080/",
          "height": 204
        },
        "id": "D4JujQVISnZw",
        "outputId": "dde1da9f-35f6-43a8-ef37-4c504f32a2e2"
      },
      "source": [
        "name_data.head()"
      ],
      "execution_count": 62,
      "outputs": [
        {
          "output_type": "execute_result",
          "data": {
            "text/html": [
              "<div>\n",
              "<style scoped>\n",
              "    .dataframe tbody tr th:only-of-type {\n",
              "        vertical-align: middle;\n",
              "    }\n",
              "\n",
              "    .dataframe tbody tr th {\n",
              "        vertical-align: top;\n",
              "    }\n",
              "\n",
              "    .dataframe thead th {\n",
              "        text-align: right;\n",
              "    }\n",
              "</style>\n",
              "<table border=\"1\" class=\"dataframe\">\n",
              "  <thead>\n",
              "    <tr style=\"text-align: right;\">\n",
              "      <th></th>\n",
              "      <th>name</th>\n",
              "      <th>label</th>\n",
              "    </tr>\n",
              "  </thead>\n",
              "  <tbody>\n",
              "    <tr>\n",
              "      <th>0</th>\n",
              "      <td>hitesh widhuri</td>\n",
              "      <td>indian</td>\n",
              "    </tr>\n",
              "    <tr>\n",
              "      <th>1</th>\n",
              "      <td>ravinder</td>\n",
              "      <td>indian</td>\n",
              "    </tr>\n",
              "    <tr>\n",
              "      <th>2</th>\n",
              "      <td>sarip ahmad</td>\n",
              "      <td>indian</td>\n",
              "    </tr>\n",
              "    <tr>\n",
              "      <th>3</th>\n",
              "      <td>Loretta Singleton</td>\n",
              "      <td>non_indian</td>\n",
              "    </tr>\n",
              "    <tr>\n",
              "      <th>4</th>\n",
              "      <td>ram awtar</td>\n",
              "      <td>indian</td>\n",
              "    </tr>\n",
              "  </tbody>\n",
              "</table>\n",
              "</div>"
            ],
            "text/plain": [
              "                name       label\n",
              "0     hitesh widhuri      indian\n",
              "1           ravinder      indian\n",
              "2        sarip ahmad      indian\n",
              "3  Loretta Singleton  non_indian\n",
              "4          ram awtar      indian"
            ]
          },
          "metadata": {
            "tags": []
          },
          "execution_count": 62
        }
      ]
    },
    {
      "cell_type": "code",
      "metadata": {
        "colab": {
          "base_uri": "https://localhost:8080/"
        },
        "id": "iMaVw1K5S-LE",
        "outputId": "238fe8f5-4c23-4bba-9060-d3a3058fd3de"
      },
      "source": [
        "name_data['label'].value_counts()"
      ],
      "execution_count": 63,
      "outputs": [
        {
          "output_type": "execute_result",
          "data": {
            "text/plain": [
              "indian        13754\n",
              "non_indian    12872\n",
              "Name: label, dtype: int64"
            ]
          },
          "metadata": {
            "tags": []
          },
          "execution_count": 63
        }
      ]
    },
    {
      "cell_type": "code",
      "metadata": {
        "id": "uGd9xU59S-Pp"
      },
      "source": [
        "#Train Test Split \r\n",
        "from sklearn.model_selection import train_test_split\r\n",
        "X = name_data['name'].astype(str)\r\n",
        "Y = name_data['label']\r\n",
        "train_names,test_names,train_labels,test_labels = train_test_split(X,Y,test_size=0.2,random_state =42,stratify=Y)"
      ],
      "execution_count": 64,
      "outputs": []
    },
    {
      "cell_type": "code",
      "metadata": {
        "colab": {
          "base_uri": "https://localhost:8080/"
        },
        "id": "KRfrbImeS-Xi",
        "outputId": "93c8548f-f6c2-453f-9b6c-00cf586b94c8"
      },
      "source": [
        "from sklearn.naive_bayes import MultinomialNB\r\n",
        "from sklearn.feature_extraction.text import CountVectorizer,TfidfVectorizer\r\n",
        "from sklearn.metrics import confusion_matrix,classification_report\r\n",
        "vectorizer = CountVectorizer()\r\n",
        "X_ = vectorizer.fit_transform(train_names.values.astype('U'))\r\n",
        "len(vectorizer.get_feature_names())"
      ],
      "execution_count": 65,
      "outputs": [
        {
          "output_type": "execute_result",
          "data": {
            "text/plain": [
              "8646"
            ]
          },
          "metadata": {
            "tags": []
          },
          "execution_count": 65
        }
      ]
    },
    {
      "cell_type": "code",
      "metadata": {
        "colab": {
          "base_uri": "https://localhost:8080/"
        },
        "id": "GDI6mbNoS-b5",
        "outputId": "ce31e6e2-cfa6-41e5-c8ce-4d8d366b0b3e"
      },
      "source": [
        "model = MultinomialNB()\r\n",
        "model.fit(X_,train_labels)\r\n",
        "\r\n",
        "X_test = vectorizer.transform(test_names.values.astype('U'))\r\n",
        "\r\n",
        "test_predicted = model.predict(X_test)\r\n",
        "\r\n",
        "print(classification_report(test_labels,test_predicted))"
      ],
      "execution_count": 66,
      "outputs": [
        {
          "output_type": "stream",
          "text": [
            "              precision    recall  f1-score   support\n",
            "\n",
            "      indian       1.00      0.99      1.00      2751\n",
            "  non_indian       0.99      1.00      1.00      2575\n",
            "\n",
            "    accuracy                           1.00      5326\n",
            "   macro avg       1.00      1.00      1.00      5326\n",
            "weighted avg       1.00      1.00      1.00      5326\n",
            "\n"
          ],
          "name": "stdout"
        }
      ]
    },
    {
      "cell_type": "code",
      "metadata": {
        "colab": {
          "base_uri": "https://localhost:8080/",
          "height": 483
        },
        "id": "K1TacPjxTSP1",
        "outputId": "eee56b8e-f24c-49f3-fa17-e3c1d720afa2"
      },
      "source": [
        "#Test th model on the new data \r\n",
        "check_new_names = ['lalitha','tyson','shailaja','shyamala','vishwanathan','ramanujam','conan','kryslovsky',\r\n",
        "'ratnani','diego','kakoli','shreyas','brayden','shanon']\r\n",
        "X_new = vectorizer.transform(check_new_names)\r\n",
        "predictions_nb_cv = model.predict(X_new)\r\n",
        "test = pd.DataFrame({'names':check_new_names,'predictions_nb_cv':predictions_nb_cv}) \r\n",
        "test"
      ],
      "execution_count": 67,
      "outputs": [
        {
          "output_type": "execute_result",
          "data": {
            "text/html": [
              "<div>\n",
              "<style scoped>\n",
              "    .dataframe tbody tr th:only-of-type {\n",
              "        vertical-align: middle;\n",
              "    }\n",
              "\n",
              "    .dataframe tbody tr th {\n",
              "        vertical-align: top;\n",
              "    }\n",
              "\n",
              "    .dataframe thead th {\n",
              "        text-align: right;\n",
              "    }\n",
              "</style>\n",
              "<table border=\"1\" class=\"dataframe\">\n",
              "  <thead>\n",
              "    <tr style=\"text-align: right;\">\n",
              "      <th></th>\n",
              "      <th>names</th>\n",
              "      <th>predictions_nb_cv</th>\n",
              "    </tr>\n",
              "  </thead>\n",
              "  <tbody>\n",
              "    <tr>\n",
              "      <th>0</th>\n",
              "      <td>lalitha</td>\n",
              "      <td>indian</td>\n",
              "    </tr>\n",
              "    <tr>\n",
              "      <th>1</th>\n",
              "      <td>tyson</td>\n",
              "      <td>indian</td>\n",
              "    </tr>\n",
              "    <tr>\n",
              "      <th>2</th>\n",
              "      <td>shailaja</td>\n",
              "      <td>indian</td>\n",
              "    </tr>\n",
              "    <tr>\n",
              "      <th>3</th>\n",
              "      <td>shyamala</td>\n",
              "      <td>indian</td>\n",
              "    </tr>\n",
              "    <tr>\n",
              "      <th>4</th>\n",
              "      <td>vishwanathan</td>\n",
              "      <td>indian</td>\n",
              "    </tr>\n",
              "    <tr>\n",
              "      <th>5</th>\n",
              "      <td>ramanujam</td>\n",
              "      <td>indian</td>\n",
              "    </tr>\n",
              "    <tr>\n",
              "      <th>6</th>\n",
              "      <td>conan</td>\n",
              "      <td>indian</td>\n",
              "    </tr>\n",
              "    <tr>\n",
              "      <th>7</th>\n",
              "      <td>kryslovsky</td>\n",
              "      <td>indian</td>\n",
              "    </tr>\n",
              "    <tr>\n",
              "      <th>8</th>\n",
              "      <td>ratnani</td>\n",
              "      <td>indian</td>\n",
              "    </tr>\n",
              "    <tr>\n",
              "      <th>9</th>\n",
              "      <td>diego</td>\n",
              "      <td>indian</td>\n",
              "    </tr>\n",
              "    <tr>\n",
              "      <th>10</th>\n",
              "      <td>kakoli</td>\n",
              "      <td>indian</td>\n",
              "    </tr>\n",
              "    <tr>\n",
              "      <th>11</th>\n",
              "      <td>shreyas</td>\n",
              "      <td>indian</td>\n",
              "    </tr>\n",
              "    <tr>\n",
              "      <th>12</th>\n",
              "      <td>brayden</td>\n",
              "      <td>indian</td>\n",
              "    </tr>\n",
              "    <tr>\n",
              "      <th>13</th>\n",
              "      <td>shanon</td>\n",
              "      <td>indian</td>\n",
              "    </tr>\n",
              "  </tbody>\n",
              "</table>\n",
              "</div>"
            ],
            "text/plain": [
              "           names predictions_nb_cv\n",
              "0        lalitha            indian\n",
              "1          tyson            indian\n",
              "2       shailaja            indian\n",
              "3       shyamala            indian\n",
              "4   vishwanathan            indian\n",
              "5      ramanujam            indian\n",
              "6          conan            indian\n",
              "7     kryslovsky            indian\n",
              "8        ratnani            indian\n",
              "9          diego            indian\n",
              "10        kakoli            indian\n",
              "11       shreyas            indian\n",
              "12       brayden            indian\n",
              "13        shanon            indian"
            ]
          },
          "metadata": {
            "tags": []
          },
          "execution_count": 67
        }
      ]
    }
  ]
}